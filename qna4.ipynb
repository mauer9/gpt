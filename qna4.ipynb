{
 "cells": [
  {
   "cell_type": "code",
   "execution_count": 14,
   "metadata": {},
   "outputs": [],
   "source": [
    "from pymilvus import MilvusClient\n",
    "from langchain.embeddings import OpenAIEmbeddings\n",
    "from langchain.chains.question_answering import load_qa_chain\n",
    "from langchain.chat_models import ChatOpenAI\n",
    "from langchain.schema import Document\n",
    "\n",
    "import os\n",
    "os.environ['OPENAI_API_KEY'] = '***'"
   ]
  },
  {
   "cell_type": "code",
   "execution_count": 2,
   "metadata": {},
   "outputs": [],
   "source": [
    "client = MilvusClient(\n",
    "    uri=\"***\",\n",
    "    token=\"***\"\n",
    ")"
   ]
  },
  {
   "cell_type": "code",
   "execution_count": 3,
   "metadata": {},
   "outputs": [],
   "source": [
    "# Создаем эмбеддинги из запроса\n",
    "query = 'Коротко опиши основные правила для банков второго уровня'\n",
    "embedding = OpenAIEmbeddings()\n",
    "vector = embedding.embed_query(query)"
   ]
  },
  {
   "cell_type": "code",
   "execution_count": 53,
   "metadata": {},
   "outputs": [],
   "source": [
    "# х, у - резы поиска по каждому индексу.\n",
    "x = client.search('a1', [vector], output_fields=['text'])[0]\n",
    "y = client.search('a2', [vector], output_fields=['text'])[0]\n",
    "x = [e['entity']['text'] for e in x]\n",
    "y = [e['entity']['text'] for e in y]\n",
    "x = [Document(page_content=e) for e in x]\n",
    "y = [Document(page_content=e) for e in y]"
   ]
  },
  {
   "cell_type": "code",
   "execution_count": 57,
   "metadata": {},
   "outputs": [],
   "source": [
    "# Соединяем резы\n",
    "docs = x+y"
   ]
  },
  {
   "cell_type": "code",
   "execution_count": 58,
   "metadata": {},
   "outputs": [],
   "source": [
    "# Указываем модель и кормим ему резы. Ответ - output\n",
    "model16k = ChatOpenAI(model='gpt-3.5-turbo-16k')\n",
    "chain = load_qa_chain(model16k, chain_type=\"stuff\")\n",
    "output = chain.run(input_documents=docs, question=query)"
   ]
  },
  {
   "cell_type": "code",
   "execution_count": 59,
   "metadata": {},
   "outputs": [
    {
     "data": {
      "text/plain": [
       "'Основные правила для банков второго уровня включают следующие требования:\\n\\n1. Формирование системы управления рисками: банк должен разработать и реализовать систему управления рисками, которая соответствует его бизнес-модели, объему операций и сложности операций. Система управления рисками должна включать процессы выявления, измерения, оценки, мониторинга, контроля и минимизации рисков.\\n\\n2. Формирование системы внутреннего контроля: банк должен создать систему внутреннего контроля, которая обеспечивает проверку и контроль всех направлений деятельности и бизнес-процессов банка. Система внутреннего контроля должна включать процедуры, методы и полномочия для обеспечения надлежащего контроля и своевременного выявления недостатков.\\n\\n3. Развитие стратегии управления рисками: банк должен разработать стратегию управления рисками, которая определяет основные цели, направления и сроки реализации. Стратегия должна учитывать риск-аппетит банка и обеспечивать достаточность собственного капитала и ликвидности для покрытия существенных рисков.\\n\\n4. Корпоративное управление: банк должен соблюдать принципы корпоративного управления, включая обязанность принимать решения в интересах банка на основе всесторонней оценки информации, обеспечение прозрачности и ответственности, а также эффективное взаимодействие между органами управления.\\n\\n5. Соблюдение законодательства и регулирования: банк должен соблюдать требования гражданского, налогового, банковского законодательства, а также законодательства о регулировании и надзоре финансового рынка. Банк также должен обеспечить своевременное и достоверное раскрытие информации в соответствии с законодательством.\\n\\n6. Обучение и развитие персонала: банк должен осуществлять обучение и развитие своего персонала в области управления рисками и внутреннего контроля, чтобы обеспечить высокий уровень компетенции и эффективность работы.\\n\\nЭто основные правила для банков второго уровня, которые помогают обеспечить эффективное управление рисками и надлежащий контроль в банке.'"
      ]
     },
     "execution_count": 59,
     "metadata": {},
     "output_type": "execute_result"
    }
   ],
   "source": [
    "# See output.txt\n",
    "output"
   ]
  }
 ],
 "metadata": {
  "kernelspec": {
   "display_name": "Python 3 (ipykernel)",
   "language": "python",
   "name": "python3"
  },
  "language_info": {
   "codemirror_mode": {
    "name": "ipython",
    "version": 3
   },
   "file_extension": ".py",
   "mimetype": "text/x-python",
   "name": "python",
   "nbconvert_exporter": "python",
   "pygments_lexer": "ipython3",
   "version": "3.11.4"
  },
  "toc-autonumbering": false
 },
 "nbformat": 4,
 "nbformat_minor": 4
}
